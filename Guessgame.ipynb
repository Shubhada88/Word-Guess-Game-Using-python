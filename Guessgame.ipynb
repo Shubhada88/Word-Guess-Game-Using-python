{
  "nbformat": 4,
  "nbformat_minor": 0,
  "metadata": {
    "colab": {
      "name": " Guessgame.ipynb",
      "provenance": [],
      "include_colab_link": true
    },
    "kernelspec": {
      "name": "python3",
      "display_name": "Python 3"
    }
  },
  "cells": [
    {
      "cell_type": "markdown",
      "metadata": {
        "id": "view-in-github",
        "colab_type": "text"
      },
      "source": [
        "<a href=\"https://colab.research.google.com/github/Shubhada88/Word-Guess-Game-Using-python/blob/main/Guessgame.ipynb\" target=\"_parent\"><img src=\"https://colab.research.google.com/assets/colab-badge.svg\" alt=\"Open In Colab\"/></a>"
      ]
    },
    {
      "cell_type": "code",
      "metadata": {
        "id": "tFxsOr_K_Gde",
        "colab": {
          "base_uri": "https://localhost:8080/"
        },
        "outputId": "5eed302d-e5d1-4789-d413-57eb1817d1c4"
      },
      "source": [
        "import random \n",
        "name = input(\"What is your name? \") \n",
        "\n",
        "print(\"Good Luck ! \", name) \n",
        "\n",
        "words = ['rainbow', 'computer', 'science', 'programming', \n",
        "        'python', 'mathematics', 'player', 'condition', \n",
        "        'reverse', 'water', 'board', 'geeks'] \n",
        "\n",
        "\n",
        "word = random.choice(words) \n",
        "\n",
        "\n",
        "print(\"Guess the characters\") \n",
        "\n",
        "guesses = '' \n",
        "\n",
        "\n",
        "turns = 12\n",
        "\n",
        "\n",
        "while turns > 0: \n",
        "    \n",
        "    \n",
        "    failed = 0\n",
        "    \n",
        "     \n",
        "    \n",
        "    for char in word: \n",
        "        \n",
        "        \n",
        "        if char in guesses: \n",
        "            print(char) \n",
        "            \n",
        "        else: \n",
        "            print(\"_\") \n",
        "            \n",
        "            # for every failure 1 will be \n",
        "            # incremented in failure \n",
        "            failed += 1\n",
        "            \n",
        "\n",
        "    if failed == 0: \n",
        "        # user will win the game if failure is 0 \n",
        "        # and 'You Win' will be given as output \n",
        "        print(\"You Win\") \n",
        "        \n",
        "        \n",
        "        print(\"The word is: \", word) \n",
        "        break\n",
        "    \n",
        "    \n",
        "    \n",
        "    guess = input(\"guess a character:\") \n",
        "    \n",
        "    \n",
        "    guesses += guess \n",
        "    \n",
        "   \n",
        " \n",
        "        \n",
        "        turns -= 1\n",
        "        \n",
        "        \n",
        "  \n",
        "        print(\"Wrong\") \n",
        "        print(\"You have\", + turns, 'more guesses') \n",
        "        \n",
        "        \n",
        "        if turns == 0: \n",
        "            print(\"You Loose\")"
      ],
      "execution_count": null,
      "outputs": [
        {
          "output_type": "stream",
          "name": "stdout",
          "text": [
            "What is your name? Shubhada\n",
            "Good Luck !  Shubhada\n",
            "Guess the characters\n",
            "_\n",
            "_\n",
            "_\n",
            "_\n",
            "_\n",
            "_\n",
            "_\n",
            "guess a character:S\n",
            "Wrong\n",
            "You have 11 more guesses\n",
            "_\n",
            "_\n",
            "_\n",
            "_\n",
            "_\n",
            "_\n",
            "_\n",
            "guess a character:A\n",
            "Wrong\n",
            "You have 10 more guesses\n",
            "_\n",
            "_\n",
            "_\n",
            "_\n",
            "_\n",
            "_\n",
            "_\n"
          ]
        }
      ]
    },
    {
      "cell_type": "markdown",
      "metadata": {
        "id": "zNSQZKMq_MNM"
      },
      "source": [
        "Python is a powerful multi-purpose programming language used by multiple giant companies. It has simple and easy to use syntax making it perfect language for someone trying to learn computer programming for first time. It is a high-level programming language, and its core design philosophy is all about code readability and a syntax which allows programmers to express concepts in a few lines of code.\n",
        "\n",
        "In this article, we will use random module to make a word guessing game. This game is for beginners learning to code in python and to give them a little brief about using strings, loops and conditional(If, else) statements.\n",
        "\n",
        "random module :\n",
        "Sometimes we want the computer to pick a random number in a given range, pick a random element from a list, pick a random card from a deck, flip a coin, etc. The random module provides access to functions that support these types of operations. One such operation is random.choice() method (returns a random item from a list, tuple, or string.) that we are going to use in order to select one random word from a list of words that we’ve created.\n",
        "\n",
        "\n",
        "\n",
        "\n",
        "In this game, there is a list of words present, out of which our interpreter will choose 1 random word. The user first has to input their names and then, will be asked to guess any alphabet. If the random word contains that alphabet, it will be shown as the output(with correct placement) else the program will ask you to guess another alphabet. User will be given 12 turns(can be changed accordingly) to guess the complete word."
      ]
    }
  ]
}